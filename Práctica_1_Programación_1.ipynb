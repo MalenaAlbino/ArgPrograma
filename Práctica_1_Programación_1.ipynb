{
  "nbformat": 4,
  "nbformat_minor": 0,
  "metadata": {
    "colab": {
      "provenance": [],
      "include_colab_link": true
    },
    "kernelspec": {
      "name": "python3",
      "display_name": "Python 3"
    },
    "language_info": {
      "name": "python"
    }
  },
  "cells": [
    {
      "cell_type": "markdown",
      "metadata": {
        "id": "view-in-github",
        "colab_type": "text"
      },
      "source": [
        "<a href=\"https://colab.research.google.com/github/MalenaAlbino/ArgPrograma-BackEnd/blob/main/Pr%C3%A1ctica_1_Programaci%C3%B3n_1.ipynb\" target=\"_parent\"><img src=\"https://colab.research.google.com/assets/colab-badge.svg\" alt=\"Open In Colab\"/></a>"
      ]
    },
    {
      "cell_type": "markdown",
      "source": [
        "# **Práctica 1**\n"
      ],
      "metadata": {
        "id": "qORqynvFV8eA"
      }
    },
    {
      "cell_type": "markdown",
      "source": [
        "#Ejercicio 1"
      ],
      "metadata": {
        "id": "v2_xlhL17_tx"
      }
    },
    {
      "cell_type": "markdown",
      "source": [
        "Pruebe las siguientes expresiones en Python. Observe qué resultados obtiene.\n",
        "\n",
        "\n",
        "``` python\n",
        "a. 0\n",
        "```\n",
        "\n",
        "\n"
      ],
      "metadata": {
        "id": "fM4QFFkV8HqW"
      }
    },
    {
      "cell_type": "code",
      "source": [
        "1.5 * 0"
      ],
      "metadata": {
        "id": "snD0jBUa8_9S",
        "outputId": "8ba53bcf-07d9-4278-c61b-65de3b70e586",
        "colab": {
          "base_uri": "https://localhost:8080/"
        }
      },
      "execution_count": 10,
      "outputs": [
        {
          "output_type": "execute_result",
          "data": {
            "text/plain": [
              "0.0"
            ]
          },
          "metadata": {},
          "execution_count": 10
        }
      ]
    },
    {
      "cell_type": "markdown",
      "source": [
        ">>```\n",
        "b. 1.5 * 0\n",
        "```"
      ],
      "metadata": {
        "id": "rI6DJp46_DNw"
      }
    },
    {
      "cell_type": "code",
      "source": [
        "1.5*0"
      ],
      "metadata": {
        "id": "7kWlu2Ef_MzD",
        "outputId": "a21910e5-d165-4ee0-b295-3f8983e52903",
        "colab": {
          "base_uri": "https://localhost:8080/"
        }
      },
      "execution_count": 1,
      "outputs": [
        {
          "output_type": "execute_result",
          "data": {
            "text/plain": [
              "0.0"
            ]
          },
          "metadata": {},
          "execution_count": 1
        }
      ]
    },
    {
      "cell_type": "markdown",
      "source": [
        ">> ```\n",
        "c.11 / 2\n",
        "```"
      ],
      "metadata": {
        "id": "OcWtczsB_Ncp"
      }
    },
    {
      "cell_type": "code",
      "source": [
        "11 // 2"
      ],
      "metadata": {
        "id": "XsDdtJl3AOnj",
        "outputId": "daa33301-0c7a-45d1-886a-b85082b8346c",
        "colab": {
          "base_uri": "https://localhost:8080/"
        }
      },
      "execution_count": 11,
      "outputs": [
        {
          "output_type": "execute_result",
          "data": {
            "text/plain": [
              "5"
            ]
          },
          "metadata": {},
          "execution_count": 11
        }
      ]
    },
    {
      "cell_type": "markdown",
      "source": [
        ">>```\n",
        "d. 11 // 2\n",
        "```"
      ],
      "metadata": {
        "id": "NZ0jyfvaAeQR"
      }
    },
    {
      "cell_type": "code",
      "source": [
        "11//2"
      ],
      "metadata": {
        "id": "wrO0ZzHnAlFA",
        "outputId": "ab373270-3c06-4295-fe6f-9d88fcf2f2b7",
        "colab": {
          "base_uri": "https://localhost:8080/"
        }
      },
      "execution_count": 2,
      "outputs": [
        {
          "output_type": "execute_result",
          "data": {
            "text/plain": [
              "5"
            ]
          },
          "metadata": {},
          "execution_count": 2
        }
      ]
    },
    {
      "cell_type": "markdown",
      "source": [
        ">>```\n",
        "e. 11.0 // 2.0\n",
        "```"
      ],
      "metadata": {
        "id": "3qi0jsGTAlib"
      }
    },
    {
      "cell_type": "code",
      "source": [
        "2 ** 2"
      ],
      "metadata": {
        "id": "Ieuq40OMAoHk",
        "outputId": "d0940f41-4232-43b8-bd5e-9ceb09ea1299",
        "colab": {
          "base_uri": "https://localhost:8080/"
        }
      },
      "execution_count": 12,
      "outputs": [
        {
          "output_type": "execute_result",
          "data": {
            "text/plain": [
              "4"
            ]
          },
          "metadata": {},
          "execution_count": 12
        }
      ]
    },
    {
      "cell_type": "markdown",
      "source": [
        ">>```\n",
        "f. 2 ** 2\n",
        "```"
      ],
      "metadata": {
        "id": "sJICxilvAoVC"
      }
    },
    {
      "cell_type": "code",
      "source": [
        "\"a\" + \"b\""
      ],
      "metadata": {
        "id": "nQFbxf9HAqk6",
        "outputId": "2fa2e756-8da1-4628-a68c-280dd021eb72",
        "colab": {
          "base_uri": "https://localhost:8080/",
          "height": 36
        }
      },
      "execution_count": 13,
      "outputs": [
        {
          "output_type": "execute_result",
          "data": {
            "text/plain": [
              "'ab'"
            ],
            "application/vnd.google.colaboratory.intrinsic+json": {
              "type": "string"
            }
          },
          "metadata": {},
          "execution_count": 13
        }
      ]
    },
    {
      "cell_type": "markdown",
      "source": [
        ">>```\n",
        "g. \"a\" + \"b\"\n",
        "```"
      ],
      "metadata": {
        "id": "UT5lDHcLAq1j"
      }
    },
    {
      "cell_type": "code",
      "source": [
        "\"a\" * 0"
      ],
      "metadata": {
        "id": "891gsXirAs4N",
        "outputId": "51f5ee9c-5171-4351-c883-212d798fea89",
        "colab": {
          "base_uri": "https://localhost:8080/",
          "height": 36
        }
      },
      "execution_count": 14,
      "outputs": [
        {
          "output_type": "execute_result",
          "data": {
            "text/plain": [
              "''"
            ],
            "application/vnd.google.colaboratory.intrinsic+json": {
              "type": "string"
            }
          },
          "metadata": {},
          "execution_count": 14
        }
      ]
    },
    {
      "cell_type": "markdown",
      "source": [
        ">>```\n",
        "h. \"a\" * 0\n",
        "```"
      ],
      "metadata": {
        "id": "y2wizlBnAtM6"
      }
    },
    {
      "cell_type": "code",
      "source": [],
      "metadata": {
        "id": "4Rn44dExFFU4"
      },
      "execution_count": 6,
      "outputs": []
    },
    {
      "cell_type": "markdown",
      "source": [
        "#Ejercicio 2"
      ],
      "metadata": {
        "id": "WR2IS2YLCAiM"
      }
    },
    {
      "cell_type": "markdown",
      "source": [
        "Introduzca las siguientes expresiones. Trate de predecir su resultado y verifique.\n",
        "\n",
        "\n",
        ">>```\n",
        "a. 1 / 0\n",
        "```\n",
        "\n",
        "\n"
      ],
      "metadata": {
        "id": "lFfKqNp9CAiM"
      }
    },
    {
      "cell_type": "code",
      "source": [
        "10 / 2 // 1 ** 5"
      ],
      "metadata": {
        "id": "-5psWkRxCAiN",
        "colab": {
          "base_uri": "https://localhost:8080/"
        },
        "outputId": "4b4ec7a3-3a16-447c-a1b4-34b1ce70090e"
      },
      "execution_count": 16,
      "outputs": [
        {
          "output_type": "execute_result",
          "data": {
            "text/plain": [
              "5.0"
            ]
          },
          "metadata": {},
          "execution_count": 16
        }
      ]
    },
    {
      "cell_type": "markdown",
      "source": [
        ">>```\n",
        "b. 10 / 2 // 1 ** 5\n",
        "```"
      ],
      "metadata": {
        "id": "eSvUE5ZTCAiN"
      }
    },
    {
      "cell_type": "code",
      "source": [
        "10 / 2 // 1 ** 5"
      ],
      "metadata": {
        "id": "9gTnj0IDCAiN",
        "colab": {
          "base_uri": "https://localhost:8080/"
        },
        "outputId": "342d82ee-51d5-438c-f614-260f73ab2e48"
      },
      "execution_count": 9,
      "outputs": [
        {
          "output_type": "execute_result",
          "data": {
            "text/plain": [
              "5.0"
            ]
          },
          "metadata": {},
          "execution_count": 9
        }
      ]
    },
    {
      "cell_type": "markdown",
      "source": [
        ">> ```\n",
        "c. \"hola\" + ’ ’ + \"mundo\" + ’!’\n",
        "```"
      ],
      "metadata": {
        "id": "BG8trbQzCAiO"
      }
    },
    {
      "cell_type": "code",
      "source": [
        "\"hola\" + (’ ’ + \"mundo\") * 0"
      ],
      "metadata": {
        "id": "O2_o9ZDbCAiO",
        "outputId": "f11c4a08-829e-4c26-99ef-847aade096ee",
        "colab": {
          "base_uri": "https://localhost:8080/",
          "height": 106
        }
      },
      "execution_count": 17,
      "outputs": [
        {
          "output_type": "error",
          "ename": "SyntaxError",
          "evalue": "invalid character '’' (U+2019) (<ipython-input-17-cecef97f63bf>, line 1)",
          "traceback": [
            "\u001b[0;36m  File \u001b[0;32m\"<ipython-input-17-cecef97f63bf>\"\u001b[0;36m, line \u001b[0;32m1\u001b[0m\n\u001b[0;31m    \"hola\" + (’ ’ + \"mundo\") * 0\u001b[0m\n\u001b[0m              ^\u001b[0m\n\u001b[0;31mSyntaxError\u001b[0m\u001b[0;31m:\u001b[0m invalid character '’' (U+2019)\n"
          ]
        }
      ]
    },
    {
      "cell_type": "markdown",
      "source": [
        ">>```\n",
        "d.  \"hola\" + (’ ’ + \"mundo\") * 0\n",
        "```"
      ],
      "metadata": {
        "id": "g57Ai-CjCAiO"
      }
    },
    {
      "cell_type": "code",
      "source": [],
      "metadata": {
        "id": "At0JKDhGCAiO"
      },
      "execution_count": null,
      "outputs": []
    },
    {
      "cell_type": "markdown",
      "source": [
        "#Ejercicio 3"
      ],
      "metadata": {
        "id": "9yFxeSaGTq3Q"
      }
    },
    {
      "cell_type": "markdown",
      "source": [
        "En Python podemos usar el operador ```==``` para preguntarnos si dos cosas son iguales o no. Si ```a == b``` nos devuelve ```True```, entonces ```a``` y ```b``` se consideran iguales. En otro caso nos devolverá ```False```. Verificar\n",
        "qué pares de las siguientes expresiones son iguales:\n",
        "\n",
        ">>```\n",
        "a. 3\n",
        "```\n",
        "\n",
        "\n"
      ],
      "metadata": {
        "id": "0ySAJe98Tq3Q"
      }
    },
    {
      "cell_type": "code",
      "source": [],
      "metadata": {
        "id": "EVHo3rAkTq3R"
      },
      "execution_count": null,
      "outputs": []
    },
    {
      "cell_type": "markdown",
      "source": [
        ">>```\n",
        "b. 3.0\n",
        "```"
      ],
      "metadata": {
        "id": "6f71yoH0Tq3R"
      }
    },
    {
      "cell_type": "code",
      "source": [],
      "metadata": {
        "id": "lTA2yM1MTq3R"
      },
      "execution_count": 9,
      "outputs": []
    },
    {
      "cell_type": "markdown",
      "source": [
        ">> ```\n",
        "c. (0.1 + 0.2) * 10\n",
        "```"
      ],
      "metadata": {
        "id": "7i3zuJRZTq3S"
      }
    },
    {
      "cell_type": "code",
      "source": [],
      "metadata": {
        "id": "H10raprmTq3S"
      },
      "execution_count": null,
      "outputs": []
    },
    {
      "cell_type": "markdown",
      "source": [
        ">>```\n",
        "d.  22 / 7\n",
        "```"
      ],
      "metadata": {
        "id": "PA8003-QTq3S"
      }
    },
    {
      "cell_type": "code",
      "source": [],
      "metadata": {
        "id": "DxF0jkSWTq3T"
      },
      "execution_count": null,
      "outputs": []
    },
    {
      "cell_type": "markdown",
      "source": [
        ">>```\n",
        "e.  22 // 7\n",
        "```"
      ],
      "metadata": {
        "id": "A0NpB-wITq3T"
      }
    },
    {
      "cell_type": "code",
      "source": [],
      "metadata": {
        "id": "lXSOh9JTTq3T"
      },
      "execution_count": null,
      "outputs": []
    },
    {
      "cell_type": "markdown",
      "source": [
        "#Ejercicio 4"
      ],
      "metadata": {
        "id": "DyNa0CyvLddE"
      }
    },
    {
      "cell_type": "markdown",
      "source": [
        "¿Cuáles son las diferencias y similitudes entre las siguientes expresiones?\n",
        "\n",
        ">>```\n",
        "a.  1) 10 + 5\n",
        "    2) 10 + 5.0\n",
        "    3) 10 + 5.\n",
        "```\n",
        "\n",
        "\n"
      ],
      "metadata": {
        "id": "OAjHZIVVLddF"
      }
    },
    {
      "cell_type": "code",
      "source": [],
      "metadata": {
        "id": "-eRwWj-MLddF"
      },
      "execution_count": null,
      "outputs": []
    },
    {
      "cell_type": "markdown",
      "source": [
        ">>```\n",
        "b.  1) 11 / 2\n",
        "    2) 11 // 2\n",
        "    3) 11.0 // 2\n",
        "```\n",
        "\n",
        "\n"
      ],
      "metadata": {
        "id": "_0ZdybfqMJpb"
      }
    },
    {
      "cell_type": "code",
      "source": [],
      "metadata": {
        "id": "4T5GdCQdLddF"
      },
      "execution_count": null,
      "outputs": []
    },
    {
      "cell_type": "markdown",
      "source": [
        "#Ejercicio 5"
      ],
      "metadata": {
        "id": "ruroOrbgMchX"
      }
    },
    {
      "cell_type": "markdown",
      "source": [
        "En Python los operadores de suma y de resta, ```+``` y ```-```, pueden ser utilizados con un único argumento (u\n",
        "operando). Ejecutar cada una de las siguientes expresiones e interpretar los resultados.\n",
        ">>```\n",
        "a. +1\n",
        "```\n",
        "\n",
        "\n"
      ],
      "metadata": {
        "id": "dm6fvR0tMchX"
      }
    },
    {
      "cell_type": "code",
      "source": [],
      "metadata": {
        "id": "hmtxspbmMchX"
      },
      "execution_count": null,
      "outputs": []
    },
    {
      "cell_type": "markdown",
      "source": [
        ">>```\n",
        "b. -1\n",
        "```"
      ],
      "metadata": {
        "id": "YLrwEY3qMchX"
      }
    },
    {
      "cell_type": "code",
      "source": [],
      "metadata": {
        "id": "2cAVG-81MchY"
      },
      "execution_count": null,
      "outputs": []
    },
    {
      "cell_type": "markdown",
      "source": [
        ">> ```\n",
        "c. +-1\n",
        "```"
      ],
      "metadata": {
        "id": "AN8QVD6bMchY"
      }
    },
    {
      "cell_type": "code",
      "source": [
        "-+1"
      ],
      "metadata": {
        "id": "dhlfIEpkMchY"
      },
      "execution_count": null,
      "outputs": []
    },
    {
      "cell_type": "markdown",
      "source": [
        ">>```\n",
        "d.  -1\n",
        "```"
      ],
      "metadata": {
        "id": "Hpv4lOkWMchY"
      }
    },
    {
      "cell_type": "code",
      "source": [
        "((3 * (5 - 7) * 4) / (14 + 3) / 1)"
      ],
      "metadata": {
        "id": "GptYt8ZyMchZ",
        "outputId": "69c4dbd9-1914-414b-e67a-b21ad638dea7",
        "colab": {
          "base_uri": "https://localhost:8080/"
        }
      },
      "execution_count": 18,
      "outputs": [
        {
          "output_type": "execute_result",
          "data": {
            "text/plain": [
              "-1.411764705882353"
            ]
          },
          "metadata": {},
          "execution_count": 18
        }
      ]
    },
    {
      "cell_type": "markdown",
      "source": [
        "#Ejercicio 6"
      ],
      "metadata": {
        "id": "AGdJlvXPNVky"
      }
    },
    {
      "cell_type": "markdown",
      "source": [
        "Poner paréntesis en las siguientes expresiones de acuerdo a las reglas de precedencia y asociatividad\n",
        "de los operadores. Si no conoce la precedencia de algún operador, se aconseja probarla primero en\n",
        "el intérprete. Una vez hecho esto, determinar el tipo de cada subexpresión entre paréntesis hasta\n",
        "determinar el tipo de la expresión completa.\n",
        ">>```\n",
        "a. 3 * 5 - 7 * 4 / 14 + 3 / 1\n",
        "```\n",
        "\n",
        "\n"
      ],
      "metadata": {
        "id": "Xr1cmqHrNVkz"
      }
    },
    {
      "cell_type": "code",
      "source": [],
      "metadata": {
        "id": "DUBiBe_9NVk0"
      },
      "execution_count": null,
      "outputs": []
    },
    {
      "cell_type": "markdown",
      "source": [
        ">>```\n",
        "b. 2 ** 1 + 3 / 5 // 4\n",
        "```"
      ],
      "metadata": {
        "id": "pwL90YRRNVk1"
      }
    },
    {
      "cell_type": "code",
      "source": [],
      "metadata": {
        "id": "cptWJ22ANVk1"
      },
      "execution_count": null,
      "outputs": []
    },
    {
      "cell_type": "markdown",
      "source": [
        ">> ```\n",
        "c. 8 / 4 / 2 ** 2 ** 2\n",
        "```"
      ],
      "metadata": {
        "id": "u2Q17aQaNVk2"
      }
    },
    {
      "cell_type": "markdown",
      "source": [
        "#Ejercicio 7"
      ],
      "metadata": {
        "id": "8-Tm8i7WQAE6"
      }
    },
    {
      "cell_type": "markdown",
      "source": [
        "Encontrar el resultado que devuelven las siguientes expresiones\n"
      ],
      "metadata": {
        "id": "zsiS3f6EN0qK"
      }
    },
    {
      "cell_type": "markdown",
      "source": [
        ">> ```\n",
        "(4 >= 40 and 8 <= 10) or (2 < 20 or 10 > 100)\n",
        "```"
      ],
      "metadata": {
        "id": "ZStMvITkOBf3"
      }
    },
    {
      "cell_type": "code",
      "source": [
        "(4 >= 40 and 8 <= 10) or (2 < 20 or 10 > 100)"
      ],
      "metadata": {
        "id": "jzsD54CXNVk3",
        "outputId": "8c5fb728-1bea-43e3-acef-9bc089298536",
        "colab": {
          "base_uri": "https://localhost:8080/"
        }
      },
      "execution_count": 19,
      "outputs": [
        {
          "output_type": "execute_result",
          "data": {
            "text/plain": [
              "True"
            ]
          },
          "metadata": {},
          "execution_count": 19
        }
      ]
    },
    {
      "cell_type": "markdown",
      "source": [
        ">> ```\n",
        "4<=10 or (2/0)==1\n",
        "```"
      ],
      "metadata": {
        "id": "1OJaIU6COLXX"
      }
    },
    {
      "cell_type": "code",
      "source": [
        "4<=10 or (2/0)==1"
      ],
      "metadata": {
        "id": "C0hfhFMlN_9L",
        "outputId": "ffdfab2c-19d3-4b38-a7d2-2313bfb97847",
        "colab": {
          "base_uri": "https://localhost:8080/"
        }
      },
      "execution_count": 28,
      "outputs": [
        {
          "output_type": "execute_result",
          "data": {
            "text/plain": [
              "True"
            ]
          },
          "metadata": {},
          "execution_count": 28
        }
      ]
    },
    {
      "cell_type": "markdown",
      "source": [
        ">> ```\n",
        "(8 >= 10 or 4 <= 8) and (3 != 10 or 10 >= 4)\n",
        "```"
      ],
      "metadata": {
        "id": "rHUEZLDAObFY"
      }
    },
    {
      "cell_type": "code",
      "source": [],
      "metadata": {
        "id": "V5owTK5IN_vM"
      },
      "execution_count": null,
      "outputs": []
    },
    {
      "cell_type": "markdown",
      "source": [
        ">> ```\n",
        "(50 > 49 and 7 == 5) or (15 <= 14 or 10 > 100)\n",
        "```"
      ],
      "metadata": {
        "id": "qxI8EAGoOhib"
      }
    },
    {
      "cell_type": "code",
      "source": [],
      "metadata": {
        "id": "Av6W9sJ7N_ly"
      },
      "execution_count": null,
      "outputs": []
    },
    {
      "cell_type": "markdown",
      "source": [
        ">> ```\n",
        "not(not(10 >= 8) and 1 > 3) or (2 != 3 and 2 < 8)\n",
        "```"
      ],
      "metadata": {
        "id": "OC87AUlsOpna"
      }
    },
    {
      "cell_type": "code",
      "source": [],
      "metadata": {
        "id": "IC6ivd-xN_cf"
      },
      "execution_count": null,
      "outputs": []
    },
    {
      "cell_type": "markdown",
      "source": [
        ">> ```\n",
        "(4 > 2 or 7 > 6) and not(3 < 6 or 2 > 0)\n",
        "```"
      ],
      "metadata": {
        "id": "OUMIWaX_Owrn"
      }
    },
    {
      "cell_type": "code",
      "source": [],
      "metadata": {
        "id": "7ECqcVYaOweU"
      },
      "execution_count": null,
      "outputs": []
    },
    {
      "cell_type": "markdown",
      "source": [
        ">> ```\n",
        "not(0)\n",
        "```\n"
      ],
      "metadata": {
        "id": "B8t63eYFPEsH"
      }
    },
    {
      "cell_type": "code",
      "source": [],
      "metadata": {
        "id": "5AG7btTWN_TY"
      },
      "execution_count": null,
      "outputs": []
    },
    {
      "cell_type": "markdown",
      "source": [
        ">> ```\n",
        "not(1)\n",
        "```"
      ],
      "metadata": {
        "id": "yeENqa0tPUqb"
      }
    },
    {
      "cell_type": "code",
      "source": [],
      "metadata": {
        "id": "oaJQ_QRcN_J_"
      },
      "execution_count": null,
      "outputs": []
    },
    {
      "cell_type": "markdown",
      "source": [
        ">> ```\n",
        "not(8)\n",
        "```"
      ],
      "metadata": {
        "id": "0f7lzfs3PWcm"
      }
    },
    {
      "cell_type": "code",
      "source": [],
      "metadata": {
        "id": "27dCN_MUN_Az"
      },
      "execution_count": null,
      "outputs": []
    },
    {
      "cell_type": "markdown",
      "source": [
        ">> ```\n",
        "not('a')\n",
        "```"
      ],
      "metadata": {
        "id": "sth9PlJePaYX"
      }
    },
    {
      "cell_type": "code",
      "source": [],
      "metadata": {
        "id": "WMzKxSuyN-3N"
      },
      "execution_count": null,
      "outputs": []
    },
    {
      "cell_type": "markdown",
      "source": [
        ">> ```\n",
        "not([])\n",
        "```"
      ],
      "metadata": {
        "id": "jf7j_mpiPf_9"
      }
    },
    {
      "cell_type": "code",
      "source": [
        "not([])"
      ],
      "metadata": {
        "id": "ZUMoXuT2N-r6",
        "outputId": "0b3ad768-c1b8-443f-b54f-79425c151229",
        "colab": {
          "base_uri": "https://localhost:8080/"
        }
      },
      "execution_count": 38,
      "outputs": [
        {
          "output_type": "execute_result",
          "data": {
            "text/plain": [
              "True"
            ]
          },
          "metadata": {},
          "execution_count": 38
        }
      ]
    },
    {
      "cell_type": "markdown",
      "source": [
        ">> ```\n",
        "not('') or not(' ')\n",
        "```"
      ],
      "metadata": {
        "id": "th7QNEPIPsxP"
      }
    },
    {
      "cell_type": "code",
      "source": [],
      "metadata": {
        "id": "VjVpQ-38PsjH"
      },
      "execution_count": null,
      "outputs": []
    },
    {
      "cell_type": "markdown",
      "source": [
        "#Ejercicio 8"
      ],
      "metadata": {
        "id": "9zbVa1fs9Ny1"
      }
    },
    {
      "cell_type": "markdown",
      "source": [
        "Considerar los siguientes fragmentos de código, y verificar si son correctos o no. En caso de no serlo, proponer un cambio para arreglarlo.\n",
        "\n",
        ">>```\n",
        "a.    print ( saludo + \" \" + destino + puntuacion )\n",
        "      saludo = \" Hola \"\n",
        "      destino = \" Mundo \"\n",
        "      puntuacion = \" ! \"\n",
        "```\n",
        "\n",
        "\n"
      ],
      "metadata": {
        "id": "-omB8LgCJ1lS"
      }
    },
    {
      "cell_type": "code",
      "source": [
        "saludo = \" Hola \"\n",
        "destino = \" Mundo \"\n",
        "puntuacion = \" ! \"\n",
        "print(saludo + \" \" + destino + puntuacion )\n"
      ],
      "metadata": {
        "id": "ZV9j4V5-VKyB",
        "outputId": "b61bff78-947f-4fa4-a7c8-6e0d16e721c8",
        "colab": {
          "base_uri": "https://localhost:8080/"
        }
      },
      "execution_count": 36,
      "outputs": [
        {
          "output_type": "stream",
          "name": "stdout",
          "text": [
            " Hola   Mundo  ! \n"
          ]
        }
      ]
    },
    {
      "cell_type": "markdown",
      "source": [
        ">>```\n",
        "b.  cateto1 = 3\n",
        "    cateto2 = 4\n",
        "    hipotenusa = (( cateto1 ** 2) + ( cateto2 ** 2)) ** 0.5\n",
        "    del cateto1\n",
        "    del cateto2\n",
        "    print ( hipotenusa )\n",
        "```"
      ],
      "metadata": {
        "id": "ykz7NxBcJ1lT"
      }
    },
    {
      "cell_type": "code",
      "source": [
        "cateto1 = 3\n",
        "cateto2 = 4\n",
        "hipotenusa = (( cateto1 ** 2) + ( cateto2 ** 2)) ** 0.5\n",
        "del cateto1\n",
        "del cateto2\n",
        "print ( hipotenusa )"
      ],
      "metadata": {
        "id": "hoKrdi-8UJ68",
        "outputId": "263d97cf-0f9b-4505-a946-f04787485baf",
        "colab": {
          "base_uri": "https://localhost:8080/"
        }
      },
      "execution_count": 32,
      "outputs": [
        {
          "output_type": "stream",
          "name": "stdout",
          "text": [
            "5.0\n"
          ]
        }
      ]
    },
    {
      "cell_type": "markdown",
      "source": [
        ">> ```\n",
        "c.  del tengo_hambre\n",
        "    tengo_hambre = False\n",
        "    del tengo_hambre\n",
        "    tengo_hambre = True\n",
        "```"
      ],
      "metadata": {
        "id": "0LSR01ZlJ1lU"
      }
    },
    {
      "cell_type": "code",
      "source": [
        "tengo_hambre = False\n",
        "del tengo_hambre\n",
        "tengo_hambre = True\n",
        "print(tengo_hambre)"
      ],
      "metadata": {
        "id": "R_4AbI3bJ1lV",
        "outputId": "4273a0e7-3f6d-4e78-a615-bca7189e22a0",
        "colab": {
          "base_uri": "https://localhost:8080/"
        }
      },
      "execution_count": 42,
      "outputs": [
        {
          "output_type": "stream",
          "name": "stdout",
          "text": [
            "True\n"
          ]
        }
      ]
    },
    {
      "cell_type": "markdown",
      "source": [
        "#Ejercicio 9"
      ],
      "metadata": {
        "id": "NP5dUr9aSWwd"
      }
    },
    {
      "cell_type": "markdown",
      "source": [
        "A partir de la siguiente página web:\n",
        "\n",
        ">> ```\n",
        "sitio_web = \"https://fceia.unr.edu.ar/noticias-fceia\"\n",
        "```\n",
        "\n",
        "Obtener las partes útiles de una url usando slicing:\n",
        "\n",
        "![image.png](data:image/png;base64,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)\n"
      ],
      "metadata": {
        "id": "hCoy90akSZCq"
      }
    },
    {
      "cell_type": "markdown",
      "source": [
        "#Ejercicio 10"
      ],
      "metadata": {
        "id": "874QiK5ZS1NB"
      }
    },
    {
      "cell_type": "markdown",
      "source": [
        "Sea la cadena de caracteres numéricos:\n",
        "\n",
        ">> ```\n",
        "numeros = \"0123456789\"\n",
        "```\n",
        "\n",
        "Obtener los números pares y el cero usando slicing."
      ],
      "metadata": {
        "id": "9IcG0ezrS3dt"
      }
    },
    {
      "cell_type": "markdown",
      "source": [
        "#Ejercicio 11"
      ],
      "metadata": {
        "id": "bzEq1cbGjItx"
      }
    },
    {
      "cell_type": "markdown",
      "source": [
        "Traducir las siguientes expresiones del lenguaje natural a expresiones booleanas en equivalentes en\n",
        "Python. Determinar su veracidad o falsedad corriendo la expresión en el intérprete.\n",
        ">>\n",
        "a. La longitud de la cadena \"Hola, mundo\" es 14.\n",
        "\n",
        "\n"
      ],
      "metadata": {
        "id": "xEa0uHN5VKx-"
      }
    },
    {
      "cell_type": "code",
      "source": [
        "len(\"Hola,mundo\")"
      ],
      "metadata": {
        "id": "v4Ab4gAwVKx-",
        "outputId": "48915011-781e-4ca4-b12b-7ee359435fcb",
        "colab": {
          "base_uri": "https://localhost:8080/"
        }
      },
      "execution_count": 21,
      "outputs": [
        {
          "output_type": "execute_result",
          "data": {
            "text/plain": [
              "10"
            ]
          },
          "metadata": {},
          "execution_count": 21
        }
      ]
    },
    {
      "cell_type": "markdown",
      "source": [
        ">>\n",
        "b. El área de un cuadrado de lado 5 es igual a la raíz cuadrada de 625."
      ],
      "metadata": {
        "id": "fFjYeU9iVKyA"
      }
    },
    {
      "cell_type": "code",
      "source": [
        "lado = 5\n",
        "area = lado*lado\n",
        "raiz_cuadrada = 625**0.5\n",
        "igualdad = area == raiz_cuadrada\n",
        "print(\"el area del cuadrado es: \" , area , \" y la raiz cuadrada de 625 es: \", raiz_cuadrada)\n",
        "print(igualdad)"
      ],
      "metadata": {
        "id": "j9JyDRJHVKyA",
        "outputId": "5a6fa04c-91ce-49eb-8bbc-17ac52c3629e",
        "colab": {
          "base_uri": "https://localhost:8080/"
        }
      },
      "execution_count": 27,
      "outputs": [
        {
          "output_type": "stream",
          "name": "stdout",
          "text": [
            "el area del cuadrado es:  25  y la raiz cuadrada de 625 es:  25.0\n",
            "True\n"
          ]
        }
      ]
    },
    {
      "cell_type": "markdown",
      "source": [
        ">>\n",
        "c. El diámetro de un círculo de radio 3,25 es menor que 7 y mayor a 6."
      ],
      "metadata": {
        "id": "NplRxXA7VKyA"
      }
    },
    {
      "cell_type": "code",
      "source": [],
      "metadata": {
        "id": "Sp4NO0lYWizt"
      },
      "execution_count": null,
      "outputs": []
    },
    {
      "cell_type": "markdown",
      "source": [
        ">>\n",
        "d. La aproximación de Pi = 22 / 7 es un número mayor que 3, y 2 + 2 es igual a 5."
      ],
      "metadata": {
        "id": "d3LRdJMbWhro"
      }
    },
    {
      "cell_type": "code",
      "source": [],
      "metadata": {
        "id": "ARYO_bc9Wvnx"
      },
      "execution_count": null,
      "outputs": []
    },
    {
      "cell_type": "markdown",
      "source": [
        ">>\n",
        "e. El numero 10 es mayor a 5 o 0 dividido 0 es igual 0."
      ],
      "metadata": {
        "id": "Sse5UqqXWuok"
      }
    },
    {
      "cell_type": "code",
      "source": [],
      "metadata": {
        "id": "qJEagmylW3mh"
      },
      "execution_count": null,
      "outputs": []
    },
    {
      "cell_type": "markdown",
      "source": [
        ">>\n",
        "f. La cadena \"Python\" tiene longitud 5 y 1+\"1\" es igual a 2."
      ],
      "metadata": {
        "id": "R4GC54LxW25y"
      }
    },
    {
      "cell_type": "code",
      "source": [],
      "metadata": {
        "id": "gzjnUlfiJ1lT"
      },
      "execution_count": null,
      "outputs": []
    },
    {
      "cell_type": "markdown",
      "source": [
        "\n",
        "\n",
        "#Ejercicio 12"
      ],
      "metadata": {
        "id": "LNIB724wJ1lS"
      }
    },
    {
      "cell_type": "markdown",
      "source": [
        "Proponga un algoritmo (en lenguaje natural) para resolver cada uno de los siguientes problemas.\n",
        "\n",
        "> a.   Dada la base y altura de un rectángulo, informar el área y su perı́metro."
      ],
      "metadata": {
        "id": "DeVPtZP6BNYb"
      }
    },
    {
      "cell_type": "code",
      "source": [],
      "metadata": {
        "id": "cE1iVJaSkcSE"
      },
      "execution_count": null,
      "outputs": []
    },
    {
      "cell_type": "markdown",
      "source": [
        "\n",
        "\n",
        "> b.   Calcular la nota final de un alumno que se obtiene de promediar las 3 notas de sus parciales.\n"
      ],
      "metadata": {
        "id": "FvRbubyBkc68"
      }
    },
    {
      "cell_type": "code",
      "source": [],
      "metadata": {
        "id": "iRmTc9Vmkgod"
      },
      "execution_count": null,
      "outputs": []
    },
    {
      "cell_type": "markdown",
      "source": [
        "> c. Calcular la distancia de dos puntos en el plano.\n"
      ],
      "metadata": {
        "id": "nkJcft3okhAs"
      }
    },
    {
      "cell_type": "code",
      "source": [],
      "metadata": {
        "id": "1ZLAWadvkj3_"
      },
      "execution_count": null,
      "outputs": []
    },
    {
      "cell_type": "markdown",
      "source": [
        "Ahora, con ayuda de su docente, empezaremos a ver cómo escribir estos algoritmos como programas\n",
        "en Python."
      ],
      "metadata": {
        "id": "xwuh0qWpkkky"
      }
    },
    {
      "cell_type": "markdown",
      "source": [
        "#Ejercicio 13"
      ],
      "metadata": {
        "id": "ywWVqo3CFAmR"
      }
    },
    {
      "cell_type": "markdown",
      "source": [
        "Escribir un algoritmo en el cual se pida al usuario que responda a la pregunta: \"¿Cómo está el dı́a de hoy? (soleado, nublado, lloviendo)\". A continuación, mostrar por pantalla un mensaje que indique “El dı́a de hoy está . . . ”, completando el mensaje con el dato que ingresó el usuario."
      ],
      "metadata": {
        "id": "TdAsuXNhFVG8"
      }
    },
    {
      "cell_type": "code",
      "source": [],
      "metadata": {
        "id": "-KSWvPhqFAmV"
      },
      "execution_count": null,
      "outputs": []
    },
    {
      "cell_type": "markdown",
      "source": [
        "#Ejercicio 14"
      ],
      "metadata": {
        "id": "gtoLpleJF4mD"
      }
    },
    {
      "cell_type": "markdown",
      "source": [
        "Conocido el número en matemática PI, pedir al usuario que ingrese el valor del radio de una circunferencia y calcular y mostrar por pantalla el área y perı́metro. Recuerde que para calcular el área y el perı́metro se utilizan las siguientes fórmulas:\n",
        "\n",
        ">>Area = π *radio2\n",
        "\n",
        ">>Perimetro = 2 * π * radio"
      ],
      "metadata": {
        "id": "MGCd4X9yF4mE"
      }
    },
    {
      "cell_type": "code",
      "source": [],
      "metadata": {
        "id": "7YL0BDbEF4mF"
      },
      "execution_count": null,
      "outputs": []
    },
    {
      "cell_type": "markdown",
      "source": [
        "#Ejercicio 15"
      ],
      "metadata": {
        "id": "2LxNI9XJGV1i"
      }
    },
    {
      "cell_type": "markdown",
      "source": [
        "Escribir un programa que calcule el precio promedio de un producto. El precio promedio se debe\n",
        "calcular a partir del precio del mismo producto en tres establecimientos distintos."
      ],
      "metadata": {
        "id": "7Bc0bCkhGV1j"
      }
    },
    {
      "cell_type": "code",
      "source": [],
      "metadata": {
        "id": "fzsldvQZGV1k"
      },
      "execution_count": null,
      "outputs": []
    },
    {
      "cell_type": "markdown",
      "source": [
        "#Ejercicio 16"
      ],
      "metadata": {
        "id": "zf3ye-MUGh0m"
      }
    },
    {
      "cell_type": "markdown",
      "source": [
        "A partir de una conocida cantidad de metros que el usuario ingresa a través del teclado se debe obtener\n",
        "su equivalente en centı́metros, en milı́metros y en pulgadas.\n",
        "\n",
        "Ayuda: 1 pulgada equivale a 2.54 centı́metros"
      ],
      "metadata": {
        "id": "7E04bJ10Gh0n"
      }
    },
    {
      "cell_type": "code",
      "source": [],
      "metadata": {
        "id": "AX7yqakkGh0o"
      },
      "execution_count": null,
      "outputs": []
    },
    {
      "cell_type": "markdown",
      "source": [
        "#Ejercicio 17"
      ],
      "metadata": {
        "id": "pFZj9KkDGtK7"
      }
    },
    {
      "cell_type": "markdown",
      "source": [
        "Escribir un programa que calcule cuántos litros de combustible consumió un automóvil. El usuario debe\n",
        "ingresar una cantidad de litros de combustible cargados en la estación y una cantidad de kilómetros\n",
        "recorridos. Después, el programa calculará el consumo (km/lt) y se lo mostrará al usuario."
      ],
      "metadata": {
        "id": "gFA-OerSGtK8"
      }
    },
    {
      "cell_type": "code",
      "source": [],
      "metadata": {
        "id": "mRnvWVzKGtK9"
      },
      "execution_count": null,
      "outputs": []
    },
    {
      "cell_type": "markdown",
      "source": [
        "#Ejercicio 18"
      ],
      "metadata": {
        "id": "v5dTawUyHERl"
      }
    },
    {
      "cell_type": "markdown",
      "source": [
        "Escriba un programa que permita al usuario ingresar el valor de dos variables numéricas de tipo entero.\n",
        "Posteriormente, el programa debe intercambiar los valores de ambas variables y mostrar el resultado\n",
        "final por pantalla. Por ejemplo, si el usuario ingresa los valores num1 = 9 y num2 = 3, la salida del programa deberá mostrar: num1 = 3 y num2 = 9.\n",
        "\n",
        "Ayuda: Para intercambiar los valores de dos variables se debe utilizar una variable auxiliar."
      ],
      "metadata": {
        "id": "27mMOLeTHERm"
      }
    },
    {
      "cell_type": "code",
      "source": [],
      "metadata": {
        "id": "nCRUVFGUHERm"
      },
      "execution_count": null,
      "outputs": []
    },
    {
      "cell_type": "markdown",
      "source": [
        "#Ejercicio 19"
      ],
      "metadata": {
        "id": "ApvAKxAoHg1J"
      }
    },
    {
      "cell_type": "markdown",
      "source": [
        "Escriba un programa que permita al usuario ingresar el valor de tres variables numéricas de tipo entero.\n",
        "Posteriormente, el programa debe intercambiar los valores de las tres variables y mostrar el resultado\n",
        "final por pantalla.\n",
        "Por ejemplo, si el usuario ingresa los valores num1 = 9, num2 = 3 y num3 = 5 la salida del programa\n",
        "deberá mostrar: num1 = 5, num2 = 9 y num3 = 3.\n",
        "\n",
        "Ayuda: Para intercambiar los valores de tres variables se debe utilizar una variable auxiliar."
      ],
      "metadata": {
        "id": "ca8YrxdWHg1J"
      }
    },
    {
      "cell_type": "code",
      "source": [],
      "metadata": {
        "id": "YgiM3gLxHg1L"
      },
      "execution_count": null,
      "outputs": []
    },
    {
      "cell_type": "markdown",
      "source": [
        "#Ejercicio 20\n"
      ],
      "metadata": {
        "id": "xAetyTwxIEW2"
      }
    },
    {
      "cell_type": "markdown",
      "source": [
        "Escriba un programa que lea dos números enteros y realice el cálculo de la suma, resta, multiplicación\n",
        "y división entre ambos valores. Los resultados deben mostrarse por pantalla."
      ],
      "metadata": {
        "id": "Y7WkMryoIEW2"
      }
    },
    {
      "cell_type": "code",
      "source": [],
      "metadata": {
        "id": "BmffZhgwIEW3"
      },
      "execution_count": null,
      "outputs": []
    },
    {
      "cell_type": "markdown",
      "source": [
        "#Ejercicio 21"
      ],
      "metadata": {
        "id": "6dwwF4PhIOmL"
      }
    },
    {
      "cell_type": "markdown",
      "source": [
        "Un colegio desea saber qué porcentaje de niños y qué porcentaje de niñas hay en el curso actual.\n",
        "Diseñar un algoritmo para este propósito. Recuerde que para calcular el porcentaje puede hacer una\n",
        "regla de 3 simple. El programa debe solicitar al usuario que ingrese la cantidad total de niños, y la\n",
        "cantidad total de niñas que hay en el curso."
      ],
      "metadata": {
        "id": "p1M6pxN7IOmM"
      }
    },
    {
      "cell_type": "code",
      "source": [],
      "metadata": {
        "id": "zam2g-0DIOmQ"
      },
      "execution_count": null,
      "outputs": []
    },
    {
      "cell_type": "markdown",
      "source": [
        "#Ejercicio 22"
      ],
      "metadata": {
        "id": "gz_Ke91bIefU"
      }
    },
    {
      "cell_type": "markdown",
      "source": [
        "A partir de una conocida cantidad de dı́as que el usuario ingresa a través del teclado, escriba un\n",
        "programa para convertir los dı́as en horas, en minutos y en segundos. Por ejemplo:\n",
        "1 dı́a = 24 horas = 1440 minutos = 86400 segundos."
      ],
      "metadata": {
        "id": "LPdLG7ilIefV"
      }
    },
    {
      "cell_type": "code",
      "source": [],
      "metadata": {
        "id": "9rA43Sf9IefW"
      },
      "execution_count": null,
      "outputs": []
    },
    {
      "cell_type": "markdown",
      "source": [
        "#Ejercicio 23"
      ],
      "metadata": {
        "id": "CAwY6Te1XSPC"
      }
    },
    {
      "cell_type": "markdown",
      "source": [
        "Modelar los siguientes problemas, nombrando los datos relevantes y el resultado, junto con la forma\n",
        "que tendrán sus representaciones internas en Python. Luego programar la solución\n",
        "\n",
        ">> a. Se tienen dos habitaciones dentro de un hogar, cada una con una temperatura ambiente. Se quiere\n",
        "saber a qué temperatura estarán las habitaciones, dado suficiente tiempo para que se transmita\n",
        "el calor de una a la otra. Se conoce que en este caso es válido promediar temperaturas."
      ],
      "metadata": {
        "id": "B3_79xJSXSPD"
      }
    },
    {
      "cell_type": "code",
      "source": [],
      "metadata": {
        "id": "VJs4wDx7XSPE"
      },
      "execution_count": null,
      "outputs": []
    },
    {
      "cell_type": "markdown",
      "source": [
        ">>b. Se tiene una multitud afuera, cada persona le dirá su nombre a cada otra persona en la multitud. Se quiere saber cuánto tiempo llevará hacer esto, dado que decir una vez tu nombre lleva\n",
        "aproximadamente 4 segundos y medio."
      ],
      "metadata": {
        "id": "TnUiQ2aIXSPF"
      }
    },
    {
      "cell_type": "code",
      "source": [],
      "metadata": {
        "id": "nqvSSasaXSPF"
      },
      "execution_count": null,
      "outputs": []
    },
    {
      "cell_type": "markdown",
      "source": [
        ">>c. Hay dos personas con nombres muy largos, pero similares. Se quiere conocer, por un lado, si tienen\n",
        "el mismo tamaño, y por otro lado si son iguales.\n",
        "\n",
        ">>Ayuda para el programa: investigar la función ```len```."
      ],
      "metadata": {
        "id": "wlZGw6yJXSPG"
      }
    },
    {
      "cell_type": "code",
      "source": [],
      "metadata": {
        "id": "ZGnj8m_yXSPG"
      },
      "execution_count": null,
      "outputs": []
    }
  ]
}